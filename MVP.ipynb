{
 "cells": [
  {
   "cell_type": "code",
   "execution_count": 3,
   "id": "a9374c40-63a9-41d0-a9d9-a177342236cb",
   "metadata": {},
   "outputs": [],
   "source": [
    "import cv2 \n",
    "import mediapipe as mp\n",
    "import numpy as np\n",
    "from time import time\n",
    "import matplotlib.pyplot as plt\n",
    "import math\n",
    "import os\n"
   ]
  },
  {
   "cell_type": "code",
   "execution_count": 4,
   "id": "8344a3c3-8cf5-42b0-92d8-01f38b82389e",
   "metadata": {},
   "outputs": [
    {
     "name": "stdout",
     "output_type": "stream",
     "text": [
      "Processing posture folder: TEST\n",
      "Processing posture folder: TRAIN\n"
     ]
    }
   ],
   "source": [
    "#Extracting key points\n",
    "\n",
    "RESIZED_FOLDER = \"resized_images\"\n",
    "POSE_KEYPOINTS_FOLDER = \"pose_keypoints\"\n",
    "\n",
    "\n",
    "os.makedirs(POSE_KEYPOINTS_FOLDER, exist_ok=True)\n",
    "\n",
    "\n",
    "mp_pose = mp.solutions.pose\n",
    "pose = mp_pose.Pose()\n",
    "\n",
    "\n",
    "def extract_pose_keypoints(image):\n",
    "    \n",
    "    image_rgb = cv2.cvtColor(image, cv2.COLOR_BGR2RGB)\n",
    "    \n",
    "    \n",
    "    results = pose.process(image_rgb)\n",
    "    \n",
    "    keypoints = []\n",
    "    \n",
    "    if results.pose_landmarks:\n",
    "        for landmark in results.pose_landmarks.landmark:\n",
    "            \n",
    "            keypoints.append([landmark.x, landmark.y, landmark.z])\n",
    "    \n",
    "    return keypoints\n",
    "\n",
    "\n",
    "for posture_folder in os.listdir(RESIZED_FOLDER):\n",
    "    posture_folder_path = os.path.join(RESIZED_FOLDER, posture_folder)\n",
    "    \n",
    "    if os.path.isdir(posture_folder_path):\n",
    "        print(f\"Processing posture folder: {posture_folder}\")\n",
    "        \n",
    "        \n",
    "        for image_name in os.listdir(posture_folder_path):\n",
    "            img_path = os.path.join(posture_folder_path, image_name)\n",
    "            \n",
    "            \n",
    "            if os.path.isfile(img_path):\n",
    "                try:\n",
    "                    \n",
    "                    img = cv2.imread(img_path)\n",
    "                    \n",
    "                    \n",
    "                    keypoints = extract_pose_keypoints(img)\n",
    "                    \n",
    "                    \n",
    "                    if keypoints:\n",
    "                        keypoints_file = os.path.join(POSE_KEYPOINTS_FOLDER, f\"{posture_folder}_{image_name}.npy\")\n",
    "                        np.save(keypoints_file, np.array(keypoints))\n",
    "                    \n",
    "                except Exception as e:\n",
    "                    print(f\"Error processing image {img_path}: {e}\")\n"
   ]
  },
  {
   "cell_type": "code",
   "execution_count": null,
   "id": "de69e8ee-16f4-4b88-a9fd-e77bb8efd767",
   "metadata": {},
   "outputs": [],
   "source": []
  }
 ],
 "metadata": {
  "kernelspec": {
   "display_name": "Python 3.9",
   "language": "python",
   "name": "python3.9"
  },
  "language_info": {
   "codemirror_mode": {
    "name": "ipython",
    "version": 3
   },
   "file_extension": ".py",
   "mimetype": "text/x-python",
   "name": "python",
   "nbconvert_exporter": "python",
   "pygments_lexer": "ipython3",
   "version": "3.9.2"
  }
 },
 "nbformat": 4,
 "nbformat_minor": 5
}
